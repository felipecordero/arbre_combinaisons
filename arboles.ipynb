{
 "cells": [
  {
   "cell_type": "code",
   "execution_count": 5,
   "id": "9b2bfeaa-dbdf-47e4-94e2-c6c27537f5b0",
   "metadata": {},
   "outputs": [],
   "source": [
    "partidas = [1, 2, 3, 4, 5, 6]\n",
    "pos_2 = [\"A\", \"B\", \"C\"]\n",
    "fin = [\"D\", \"E\", \"F\"]"
   ]
  },
  {
   "cell_type": "code",
   "execution_count": 6,
   "id": "058002a5",
   "metadata": {},
   "outputs": [
    {
     "name": "stdout",
     "output_type": "stream",
     "text": [
      "1 A D\n",
      "1 A E\n",
      "1 A F\n",
      "1 B D\n",
      "1 B E\n",
      "1 B F\n",
      "1 C D\n",
      "1 C E\n",
      "1 C F\n",
      "2 A D\n",
      "2 A E\n",
      "2 A F\n",
      "2 B D\n",
      "2 B E\n",
      "2 B F\n",
      "2 C D\n",
      "2 C E\n",
      "2 C F\n",
      "3 A D\n",
      "3 A E\n",
      "3 A F\n",
      "3 B D\n",
      "3 B E\n",
      "3 B F\n",
      "3 C D\n",
      "3 C E\n",
      "3 C F\n",
      "4 A D\n",
      "4 A E\n",
      "4 A F\n",
      "4 B D\n",
      "4 B E\n",
      "4 B F\n",
      "4 C D\n",
      "4 C E\n",
      "4 C F\n",
      "5 A D\n",
      "5 A E\n",
      "5 A F\n",
      "5 B D\n",
      "5 B E\n",
      "5 B F\n",
      "5 C D\n",
      "5 C E\n",
      "5 C F\n",
      "6 A D\n",
      "6 A E\n",
      "6 A F\n",
      "6 B D\n",
      "6 B E\n",
      "6 B F\n",
      "6 C D\n",
      "6 C E\n",
      "6 C F\n"
     ]
    }
   ],
   "source": [
    "for inicio in partidas:\n",
    "    for p2 in pos_2:\n",
    "        for f in fin:\n",
    "            print(inicio, p2, f)"
   ]
  },
  {
   "cell_type": "code",
   "execution_count": null,
   "id": "ee44a698",
   "metadata": {},
   "outputs": [],
   "source": []
  }
 ],
 "metadata": {
  "kernelspec": {
   "display_name": ".venv",
   "language": "python",
   "name": "python3"
  },
  "language_info": {
   "codemirror_mode": {
    "name": "ipython",
    "version": 3
   },
   "file_extension": ".py",
   "mimetype": "text/x-python",
   "name": "python",
   "nbconvert_exporter": "python",
   "pygments_lexer": "ipython3",
   "version": "3.12.9"
  }
 },
 "nbformat": 4,
 "nbformat_minor": 5
}
